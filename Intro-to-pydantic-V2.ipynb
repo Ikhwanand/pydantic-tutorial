{
 "cells": [
  {
   "cell_type": "markdown",
   "metadata": {},
   "source": [
    "# Intro to Pydantic V2\n",
    "\n",
    "## Basic Model"
   ]
  },
  {
   "cell_type": "code",
   "execution_count": 2,
   "metadata": {},
   "outputs": [],
   "source": [
    "from pydantic import BaseModel"
   ]
  },
  {
   "cell_type": "code",
   "execution_count": 3,
   "metadata": {},
   "outputs": [],
   "source": [
    "class Person(BaseModel):\n",
    "    first_name: str\n",
    "    last_name: str\n",
    "    age: int"
   ]
  },
  {
   "cell_type": "markdown",
   "metadata": {},
   "source": [
    "As you can see, we define the data type of the fields in the model using Python type hints, and we inherit from `BaseModel`.\n",
    "\n",
    "We can now craete instances of this model in a variety of ways:"
   ]
  },
  {
   "cell_type": "code",
   "execution_count": 4,
   "metadata": {},
   "outputs": [],
   "source": [
    "p = Person(first_name=\"John\", last_name=\"Doe\", age=30)"
   ]
  },
  {
   "cell_type": "code",
   "execution_count": 7,
   "metadata": {},
   "outputs": [
    {
     "name": "stdout",
     "output_type": "stream",
     "text": [
      "first_name='John' last_name='Doe' age=30\n"
     ]
    }
   ],
   "source": [
    "print(p)"
   ]
  },
  {
   "cell_type": "markdown",
   "metadata": {},
   "source": [
    "Pydantic will also perform validation on your \"input\" data. In some cases it will attempt to coerce the input data to the proper type - when it cannot do so, it will raise a `pydantic.ValidationError` exception.\n",
    "\n",
    "So, when you have a Pydantic model instance, you are guaranteed that the fields will be of the type specified in the model."
   ]
  },
  {
   "cell_type": "code",
   "execution_count": 8,
   "metadata": {},
   "outputs": [],
   "source": [
    "from pydantic import ValidationError"
   ]
  },
  {
   "cell_type": "code",
   "execution_count": 11,
   "metadata": {},
   "outputs": [
    {
     "name": "stdout",
     "output_type": "stream",
     "text": [
      "1 validation error for Person\n",
      "age\n",
      "  Input should be a valid integer, unable to parse string as an integer [type=int_parsing, input_value='junk', input_type=str]\n",
      "    For further information visit https://errors.pydantic.dev/2.10/v/int_parsing\n"
     ]
    }
   ],
   "source": [
    "try:\n",
    "    Person(first_name=\"John\", last_name=\"Doe\", age=\"junk\")\n",
    "except ValidationError as e:\n",
    "    print(e)"
   ]
  },
  {
   "cell_type": "markdown",
   "metadata": {},
   "source": [
    "Fields in model instances can be accessed using object dot notation:"
   ]
  },
  {
   "cell_type": "code",
   "execution_count": 12,
   "metadata": {},
   "outputs": [
    {
     "name": "stdout",
     "output_type": "stream",
     "text": [
      "first_name='John' last_name='Doe' age=30\n"
     ]
    }
   ],
   "source": [
    "p = Person(first_name=\"John\", last_name=\"Doe\", age=30)\n",
    "print(p)"
   ]
  },
  {
   "cell_type": "code",
   "execution_count": 13,
   "metadata": {},
   "outputs": [
    {
     "data": {
      "text/plain": [
       "'John'"
      ]
     },
     "execution_count": 13,
     "metadata": {},
     "output_type": "execute_result"
    }
   ],
   "source": [
    "p.first_name"
   ]
  },
  {
   "cell_type": "markdown",
   "metadata": {},
   "source": [
    "We can even mutate these field values:"
   ]
  },
  {
   "cell_type": "code",
   "execution_count": 14,
   "metadata": {},
   "outputs": [
    {
     "name": "stdout",
     "output_type": "stream",
     "text": [
      "first_name='James' last_name='Doe' age=30\n"
     ]
    }
   ],
   "source": [
    "p.first_name = 'James'\n",
    "print(p)"
   ]
  },
  {
   "cell_type": "markdown",
   "metadata": {},
   "source": [
    "One caution here - by default Pydantic validates the data being deserialized, but does not validate data being changed via assignments (although you can modify Pydantic's behavior):"
   ]
  },
  {
   "cell_type": "code",
   "execution_count": 16,
   "metadata": {},
   "outputs": [
    {
     "name": "stdout",
     "output_type": "stream",
     "text": [
      "first_name='James' last_name='Doe' age='unknown'\n"
     ]
    }
   ],
   "source": [
    "p.age = \"unknown\"\n",
    "print(p)"
   ]
  },
  {
   "cell_type": "markdown",
   "metadata": {},
   "source": [
    "## Validation Exceptions\n",
    "\n",
    "As we just saw, Pydantic validates all the fields - it does not just stop at the first validation error.\n",
    "\n",
    "So far we have just been printing the error message, but you can also get the list of erros as data using some special methods provided by `ValidationError` exceptions:"
   ]
  },
  {
   "cell_type": "code",
   "execution_count": 17,
   "metadata": {},
   "outputs": [],
   "source": [
    "try:\n",
    "    Person(first_name=\"John\", last_name=\"Doe\", age=\"junk\")\n",
    "except ValidationError as e:\n",
    "    exceptions = e"
   ]
  },
  {
   "cell_type": "code",
   "execution_count": 18,
   "metadata": {},
   "outputs": [
    {
     "data": {
      "text/plain": [
       "[{'type': 'int_parsing',\n",
       "  'loc': ('age',),\n",
       "  'msg': 'Input should be a valid integer, unable to parse string as an integer',\n",
       "  'input': 'junk',\n",
       "  'url': 'https://errors.pydantic.dev/2.10/v/int_parsing'}]"
      ]
     },
     "execution_count": 18,
     "metadata": {},
     "output_type": "execute_result"
    }
   ],
   "source": [
    "exceptions.errors()"
   ]
  },
  {
   "cell_type": "markdown",
   "metadata": {},
   "source": [
    "This gave us a Python dictioanary, and we can also get it back as JSON:"
   ]
  },
  {
   "cell_type": "code",
   "execution_count": 20,
   "metadata": {},
   "outputs": [
    {
     "name": "stdout",
     "output_type": "stream",
     "text": [
      "[{\"type\":\"int_parsing\",\"loc\":[\"age\"],\"msg\":\"Input should be a valid integer, unable to parse string as an integer\",\"input\":\"junk\",\"url\":\"https://errors.pydantic.dev/2.10/v/int_parsing\"}]\n"
     ]
    }
   ],
   "source": [
    "print(exceptions.json())"
   ]
  },
  {
   "cell_type": "markdown",
   "metadata": {},
   "source": [
    "This is useful when you need to return the exceptions to a caller - for example if you have a REST API that needs to return any validation exceptions for JSON data that was submitted to you endpoints."
   ]
  },
  {
   "cell_type": "markdown",
   "metadata": {},
   "source": [
    "## Deserializing Data\n",
    "\n",
    "We have two additional ways to \"load\" data to generate model instances.\n",
    "\n",
    "This process of taking data in one format and generating a Python object, is called deserialization.\n",
    "\n",
    "Pydantic supports deserializing from a Python dictionary:"
   ]
  },
  {
   "cell_type": "code",
   "execution_count": 21,
   "metadata": {},
   "outputs": [
    {
     "name": "stdout",
     "output_type": "stream",
     "text": [
      "first_name='John' last_name='Doe' age=30\n"
     ]
    }
   ],
   "source": [
    "data = {\n",
    "    'first_name': 'John',\n",
    "    'last_name': 'Doe',\n",
    "    'age': 30\n",
    "}\n",
    "\n",
    "p = Person.model_validate(data)\n",
    "print(p)"
   ]
  },
  {
   "cell_type": "markdown",
   "metadata": {},
   "source": [
    "It also supports deserializing from JSON:"
   ]
  },
  {
   "cell_type": "code",
   "execution_count": 22,
   "metadata": {},
   "outputs": [
    {
     "name": "stdout",
     "output_type": "stream",
     "text": [
      "first_name='John' last_name='Doe' age=30\n"
     ]
    }
   ],
   "source": [
    "data_json = '''\n",
    "{\n",
    "    \"first_name\": \"John\",\n",
    "    \"last_name\": \"Doe\",\n",
    "    \"age\": 30\n",
    "}\n",
    "'''\n",
    "\n",
    "p = Person.model_validate_json(data_json)\n",
    "print(p)"
   ]
  },
  {
   "cell_type": "markdown",
   "metadata": {},
   "source": [
    "We can inspect the model's fields this way, to see how they are currently defined:"
   ]
  },
  {
   "cell_type": "code",
   "execution_count": 23,
   "metadata": {},
   "outputs": [
    {
     "data": {
      "text/plain": [
       "{'first_name': FieldInfo(annotation=str, required=True),\n",
       " 'last_name': FieldInfo(annotation=str, required=True),\n",
       " 'age': FieldInfo(annotation=int, required=True)}"
      ]
     },
     "execution_count": 23,
     "metadata": {},
     "output_type": "execute_result"
    }
   ],
   "source": [
    "Person.model_fields"
   ]
  },
  {
   "cell_type": "markdown",
   "metadata": {},
   "source": [
    "## Required vs Optional Fields\n",
    "\n",
    "One thing you'll notice in there, is that the fields are marked as **required**.\n",
    "\n",
    "And indeed, if we try to deserialize data that is missing any of those fields, we'll get a `ValidationError` exception:"
   ]
  },
  {
   "cell_type": "code",
   "execution_count": 24,
   "metadata": {},
   "outputs": [
    {
     "name": "stdout",
     "output_type": "stream",
     "text": [
      "2 validation errors for Person\n",
      "first_name\n",
      "  Field required [type=missing, input_value={'age': 42}, input_type=dict]\n",
      "    For further information visit https://errors.pydantic.dev/2.10/v/missing\n",
      "last_name\n",
      "  Field required [type=missing, input_value={'age': 42}, input_type=dict]\n",
      "    For further information visit https://errors.pydantic.dev/2.10/v/missing\n"
     ]
    }
   ],
   "source": [
    "try:\n",
    "    Person(age=42)\n",
    "except ValidationError as e:\n",
    "    print(e)"
   ]
  },
  {
   "cell_type": "code",
   "execution_count": 25,
   "metadata": {},
   "outputs": [
    {
     "name": "stdout",
     "output_type": "stream",
     "text": [
      "2 validation errors for Person\n",
      "first_name\n",
      "  Field required [type=missing, input_value={'age': 42}, input_type=dict]\n",
      "    For further information visit https://errors.pydantic.dev/2.10/v/missing\n",
      "last_name\n",
      "  Field required [type=missing, input_value={'age': 42}, input_type=dict]\n",
      "    For further information visit https://errors.pydantic.dev/2.10/v/missing\n"
     ]
    }
   ],
   "source": [
    "data = {\"age\": 42}\n",
    "\n",
    "try:\n",
    "    Person.model_validate(data)\n",
    "except ValidationError as e:\n",
    "    print(e)"
   ]
  },
  {
   "cell_type": "markdown",
   "metadata": {},
   "source": [
    "To make a field optional, we simply specify a default value for it:"
   ]
  },
  {
   "cell_type": "code",
   "execution_count": 26,
   "metadata": {},
   "outputs": [
    {
     "data": {
      "text/plain": [
       "{'first_name': FieldInfo(annotation=str, required=True),\n",
       " 'last_name': FieldInfo(annotation=str, required=True),\n",
       " 'age': FieldInfo(annotation=int, required=False, default=0)}"
      ]
     },
     "execution_count": 26,
     "metadata": {},
     "output_type": "execute_result"
    }
   ],
   "source": [
    "class Person(BaseModel):\n",
    "    first_name: str\n",
    "    last_name: str\n",
    "    age: int = 0\n",
    "    \n",
    "\n",
    "Person.model_fields"
   ]
  },
  {
   "cell_type": "markdown",
   "metadata": {},
   "source": [
    "Another you can use `Optional` from `typing` library to make a field optional:"
   ]
  },
  {
   "cell_type": "code",
   "execution_count": 32,
   "metadata": {},
   "outputs": [
    {
     "data": {
      "text/plain": [
       "{'first_name': FieldInfo(annotation=str, required=True),\n",
       " 'last_name': FieldInfo(annotation=str, required=True),\n",
       " 'age': FieldInfo(annotation=Union[int, NoneType], required=False, default=0)}"
      ]
     },
     "execution_count": 32,
     "metadata": {},
     "output_type": "execute_result"
    }
   ],
   "source": [
    "from typing import Optional\n",
    "\n",
    "class Person(BaseModel):\n",
    "    first_name: str\n",
    "    last_name: str\n",
    "    age: Optional[int] = 0\n",
    "    \n",
    "Person.model_fields"
   ]
  },
  {
   "cell_type": "markdown",
   "metadata": {},
   "source": [
    "As you can see, the `age` field is no longer a required field since it has a default value."
   ]
  },
  {
   "cell_type": "code",
   "execution_count": 33,
   "metadata": {},
   "outputs": [
    {
     "name": "stdout",
     "output_type": "stream",
     "text": [
      "first_name='John' last_name='Doe' age=0\n"
     ]
    }
   ],
   "source": [
    "p = Person(first_name=\"John\", last_name=\"Doe\")\n",
    "print(p)\n"
   ]
  },
  {
   "cell_type": "markdown",
   "metadata": {},
   "source": [
    "## Nullable Fields\n",
    "\n",
    "We can also set defaults to `None`, but there you have to be a bit more careful - the type should technically allow `None`, since the type of `None` is the same as say `str`.\n",
    "\n",
    "So, we just need to amend our type hint accordingly:"
   ]
  },
  {
   "cell_type": "code",
   "execution_count": 41,
   "metadata": {},
   "outputs": [],
   "source": [
    "class Person(BaseModel):\n",
    "    first_name: str | None = None \n",
    "    last_name: str \n",
    "    age: int | None = None \n",
    "    "
   ]
  },
  {
   "cell_type": "code",
   "execution_count": 40,
   "metadata": {},
   "outputs": [
    {
     "name": "stdout",
     "output_type": "stream",
     "text": [
      "{'first_name': FieldInfo(annotation=str, required=False, default=None), 'last_name': FieldInfo(annotation=str, required=True), 'age': FieldInfo(annotation=int, required=False, default=None)}\n"
     ]
    }
   ],
   "source": [
    "print(Person.model_fields)"
   ]
  },
  {
   "cell_type": "markdown",
   "metadata": {},
   "source": [
    "As you can see from the inspection, `first_name` and `age` are optional fields (not required), and are nullable (can be set to `None`)."
   ]
  },
  {
   "cell_type": "code",
   "execution_count": 37,
   "metadata": {},
   "outputs": [
    {
     "name": "stdout",
     "output_type": "stream",
     "text": [
      "first_name=None last_name='Smith' age=None\n"
     ]
    }
   ],
   "source": [
    "p = Person(last_name='Smith')\n",
    "print(p)"
   ]
  },
  {
   "cell_type": "markdown",
   "metadata": {},
   "source": [
    "The notation `str | None` is just an alternative syntax available in more recent versions of Python - for older versions you can use the canonical way of doing this, using a `Union`:"
   ]
  },
  {
   "cell_type": "code",
   "execution_count": 42,
   "metadata": {},
   "outputs": [],
   "source": [
    "from typing import Union\n",
    "\n",
    "class Person(BaseModel):\n",
    "    first_name: Union[str, None] = None \n",
    "    last_name: str\n",
    "    age: Union[int, None] = None "
   ]
  },
  {
   "cell_type": "code",
   "execution_count": 43,
   "metadata": {},
   "outputs": [
    {
     "data": {
      "text/plain": [
       "{'first_name': FieldInfo(annotation=Union[str, NoneType], required=False, default=None),\n",
       " 'last_name': FieldInfo(annotation=str, required=True),\n",
       " 'age': FieldInfo(annotation=Union[int, NoneType], required=False, default=None)}"
      ]
     },
     "execution_count": 43,
     "metadata": {},
     "output_type": "execute_result"
    }
   ],
   "source": [
    "Person.model_fields"
   ]
  },
  {
   "cell_type": "code",
   "execution_count": 45,
   "metadata": {},
   "outputs": [
    {
     "name": "stdout",
     "output_type": "stream",
     "text": [
      "first_name=None last_name='Smith' age=None\n"
     ]
    }
   ],
   "source": [
    "print(Person(last_name='Smith'))"
   ]
  },
  {
   "cell_type": "markdown",
   "metadata": {},
   "source": [
    "You can also use the `Optional` type annotation - but I never use it with Pydantic as I find that name too easy to mistake for think a field is optional the `Optional` hint simply means **nullable** (can be `None`), not that the field is optional in the Pydantic sense."
   ]
  },
  {
   "cell_type": "code",
   "execution_count": 46,
   "metadata": {},
   "outputs": [],
   "source": [
    "from typing import Optional\n",
    "\n",
    "class Person(BaseModel):\n",
    "    first_name: Optional[str] = None \n",
    "    last_name: str\n",
    "    age: Optional[int] = None "
   ]
  },
  {
   "cell_type": "code",
   "execution_count": 47,
   "metadata": {},
   "outputs": [
    {
     "data": {
      "text/plain": [
       "{'first_name': FieldInfo(annotation=Union[str, NoneType], required=False, default=None),\n",
       " 'last_name': FieldInfo(annotation=str, required=True),\n",
       " 'age': FieldInfo(annotation=Union[int, NoneType], required=False, default=None)}"
      ]
     },
     "execution_count": 47,
     "metadata": {},
     "output_type": "execute_result"
    }
   ],
   "source": [
    "Person.model_fields"
   ]
  },
  {
   "cell_type": "markdown",
   "metadata": {},
   "source": [
    "The `Optional` hint here has nothing to do with whether the field is optional or not:"
   ]
  },
  {
   "cell_type": "code",
   "execution_count": 48,
   "metadata": {},
   "outputs": [],
   "source": [
    "class Test(BaseModel):\n",
    "    name: Optional[str]\n",
    "    age: int"
   ]
  },
  {
   "cell_type": "code",
   "execution_count": 49,
   "metadata": {},
   "outputs": [
    {
     "data": {
      "text/plain": [
       "{'name': FieldInfo(annotation=Union[str, NoneType], required=True),\n",
       " 'age': FieldInfo(annotation=int, required=True)}"
      ]
     },
     "execution_count": 49,
     "metadata": {},
     "output_type": "execute_result"
    }
   ],
   "source": [
    "Test.model_fields"
   ]
  },
  {
   "cell_type": "markdown",
   "metadata": {},
   "source": [
    "As you can see, `name` is a required field, not optional."
   ]
  },
  {
   "cell_type": "code",
   "execution_count": 50,
   "metadata": {},
   "outputs": [
    {
     "name": "stdout",
     "output_type": "stream",
     "text": [
      "1 validation error for Test\n",
      "name\n",
      "  Field required [type=missing, input_value={'age': 42}, input_type=dict]\n",
      "    For further information visit https://errors.pydantic.dev/2.10/v/missing\n"
     ]
    }
   ],
   "source": [
    "try:\n",
    "    Test(age=42)\n",
    "except ValidationError as e:\n",
    "    print(e)"
   ]
  },
  {
   "cell_type": "markdown",
   "metadata": {},
   "source": [
    "Pydantic fully supports Python's type hinting system, so you could for example specify a field to be a list of a certain type:"
   ]
  },
  {
   "cell_type": "code",
   "execution_count": 51,
   "metadata": {},
   "outputs": [],
   "source": [
    "class Person(BaseModel):\n",
    "    first_name: str | None = None \n",
    "    last_name: str \n",
    "    age: int | None = None \n",
    "    lucky_numbers: list[int] = []\n",
    "    "
   ]
  },
  {
   "cell_type": "code",
   "execution_count": 52,
   "metadata": {},
   "outputs": [
    {
     "data": {
      "text/plain": [
       "{'first_name': FieldInfo(annotation=Union[str, NoneType], required=False, default=None),\n",
       " 'last_name': FieldInfo(annotation=str, required=True),\n",
       " 'age': FieldInfo(annotation=Union[int, NoneType], required=False, default=None),\n",
       " 'lucky_numbers': FieldInfo(annotation=list[int], required=False, default=[])}"
      ]
     },
     "execution_count": 52,
     "metadata": {},
     "output_type": "execute_result"
    }
   ],
   "source": [
    "Person.model_fields"
   ]
  },
  {
   "cell_type": "markdown",
   "metadata": {},
   "source": [
    "And the type coercion will apply to the elements of the list as well:"
   ]
  },
  {
   "cell_type": "code",
   "execution_count": 55,
   "metadata": {},
   "outputs": [
    {
     "name": "stdout",
     "output_type": "stream",
     "text": [
      "first_name=None last_name='Smith' age=None lucky_numbers=[1, 2, 3]\n"
     ]
    }
   ],
   "source": [
    "p = Person(last_name='Smith', lucky_numbers=[1, '2', 3.0])\n",
    "print(p)"
   ]
  },
  {
   "cell_type": "markdown",
   "metadata": {},
   "source": [
    "As you can see, the elements of the list were all successfully coerced to integers:"
   ]
  },
  {
   "cell_type": "code",
   "execution_count": 57,
   "metadata": {},
   "outputs": [
    {
     "name": "stdout",
     "output_type": "stream",
     "text": [
      "1 (int)\n",
      "2 (int)\n",
      "3 (int)\n"
     ]
    }
   ],
   "source": [
    "for number in p.lucky_numbers:\n",
    "    print(f\"{number} ({type(number).__name__})\")"
   ]
  },
  {
   "cell_type": "markdown",
   "metadata": {},
   "source": [
    "## Aliases and the Field Class\n",
    "\n",
    "Sometimes the data we are attempting to deserialize uses names that we simply do not, or cannot use in our model.\n",
    "\n",
    "For example consider this data we would like to model using Pydantic:"
   ]
  },
  {
   "cell_type": "code",
   "execution_count": 58,
   "metadata": {},
   "outputs": [],
   "source": [
    "data = {\n",
    "    \"id\": 100,\n",
    "    \"First Name\": \"John\",\n",
    "    \"LASTNAME\": \"Smith\",\n",
    "    \"age in years\": 42,\n",
    "}"
   ]
  },
  {
   "cell_type": "markdown",
   "metadata": {},
   "source": [
    "Obviously, some of these field names we cannot even specify in Python (the ones with the spaces in the names).\n",
    "\n",
    "To help with that, Pydantic has a way to define an alternative name to our field names, called **aliases**."
   ]
  },
  {
   "cell_type": "markdown",
   "metadata": {},
   "source": [
    "Here's how we would set up a model to handle that data:"
   ]
  },
  {
   "cell_type": "code",
   "execution_count": 59,
   "metadata": {},
   "outputs": [],
   "source": [
    "from pydantic import Field\n",
    "\n",
    "class Person(BaseModel):\n",
    "    id_: int = Field(alias='id')\n",
    "    first_name: str = Field(alias='First Name')\n",
    "    last_name: str = Field(alias='LASTNAME')\n",
    "    age: int = Field(alias='age in years')\n",
    "    "
   ]
  },
  {
   "cell_type": "code",
   "execution_count": 60,
   "metadata": {},
   "outputs": [
    {
     "name": "stdout",
     "output_type": "stream",
     "text": [
      "id_=100 first_name='John' last_name='Smith' age=42\n"
     ]
    }
   ],
   "source": [
    "p = Person.model_validate(data)\n",
    "print(p)"
   ]
  },
  {
   "cell_type": "markdown",
   "metadata": {},
   "source": [
    "## Serialization\n",
    "\n",
    "Pydantic models also give us the ability to **serialize** data models - that is, take the Python object and generate either a Python dictionary or a JSON string with the data:"
   ]
  },
  {
   "cell_type": "code",
   "execution_count": 62,
   "metadata": {},
   "outputs": [
    {
     "data": {
      "text/plain": [
       "{'id_': 100, 'first_name': 'John', 'last_name': 'Smith', 'age': 42}"
      ]
     },
     "execution_count": 62,
     "metadata": {},
     "output_type": "execute_result"
    }
   ],
   "source": [
    "p.model_dump()"
   ]
  },
  {
   "cell_type": "code",
   "execution_count": 63,
   "metadata": {},
   "outputs": [
    {
     "data": {
      "text/plain": [
       "'{\"id_\":100,\"first_name\":\"John\",\"last_name\":\"Smith\",\"age\":42}'"
      ]
     },
     "execution_count": 63,
     "metadata": {},
     "output_type": "execute_result"
    }
   ],
   "source": [
    "p.model_dump_json()"
   ]
  },
  {
   "cell_type": "markdown",
   "metadata": {},
   "source": [
    "As you can see, serialization uses the field names, not the aliases to serialize. \n",
    "\n",
    "Since we have aliases, we could, if we wanted to, also serialize using the aliases instead of the field names:"
   ]
  },
  {
   "cell_type": "code",
   "execution_count": 64,
   "metadata": {},
   "outputs": [
    {
     "data": {
      "text/plain": [
       "{'id': 100, 'First Name': 'John', 'LASTNAME': 'Smith', 'age in years': 42}"
      ]
     },
     "execution_count": 64,
     "metadata": {},
     "output_type": "execute_result"
    }
   ],
   "source": [
    "p.model_dump(by_alias=True)"
   ]
  },
  {
   "cell_type": "code",
   "execution_count": 65,
   "metadata": {},
   "outputs": [
    {
     "data": {
      "text/plain": [
       "'{\"id\":100,\"First Name\":\"John\",\"LASTNAME\":\"Smith\",\"age in years\":42}'"
      ]
     },
     "execution_count": 65,
     "metadata": {},
     "output_type": "execute_result"
    }
   ],
   "source": [
    "p.model_dump_json(by_alias=True)"
   ]
  },
  {
   "cell_type": "markdown",
   "metadata": {},
   "source": [
    "## Field and Defaults\n",
    "\n",
    "When we used the `Field` object to define an alias, we lost the ability to set our fields to some default value.\n",
    "\n",
    "However, we can use an argument in the `Field` object to define the default value:"
   ]
  },
  {
   "cell_type": "code",
   "execution_count": 66,
   "metadata": {},
   "outputs": [],
   "source": [
    "class Person(BaseModel):\n",
    "    first_name: str | None = Field(alias='firstname', default=None)\n",
    "    last_name: str | None = Field(alias='lastname')"
   ]
  },
  {
   "cell_type": "code",
   "execution_count": 67,
   "metadata": {},
   "outputs": [
    {
     "name": "stdout",
     "output_type": "stream",
     "text": [
      "first_name=None last_name='Smith'\n"
     ]
    }
   ],
   "source": [
    "data = {\n",
    "    'lastname': 'Smith'\n",
    "}\n",
    "\n",
    "p = Person.model_validate(data)\n",
    "print(p)"
   ]
  },
  {
   "cell_type": "markdown",
   "metadata": {},
   "source": [
    "When we specify an alias, we **must** use the alias when deserializing data:\n",
    "\n",
    "For example, this will not work:"
   ]
  },
  {
   "cell_type": "code",
   "execution_count": 68,
   "metadata": {},
   "outputs": [
    {
     "name": "stdout",
     "output_type": "stream",
     "text": [
      "1 validation error for Person\n",
      "lastname\n",
      "  Field required [type=missing, input_value={'last_name': 'Smith'}, input_type=dict]\n",
      "    For further information visit https://errors.pydantic.dev/2.10/v/missing\n"
     ]
    }
   ],
   "source": [
    "try:\n",
    "    Person(last_name='Smith')\n",
    "except ValidationError as e:\n",
    "    print(e)"
   ]
  },
  {
   "cell_type": "code",
   "execution_count": 69,
   "metadata": {},
   "outputs": [
    {
     "name": "stdout",
     "output_type": "stream",
     "text": [
      "1 validation error for Person\n",
      "lastname\n",
      "  Field required [type=missing, input_value={'last_name': 'Smith'}, input_type=dict]\n",
      "    For further information visit https://errors.pydantic.dev/2.10/v/missing\n"
     ]
    }
   ],
   "source": [
    "data = {\n",
    "    'last_name': 'Smith'\n",
    "}\n",
    "\n",
    "try:\n",
    "    Person.model_validate(data)\n",
    "except ValidationError as e:\n",
    "    print(e)"
   ]
  },
  {
   "cell_type": "markdown",
   "metadata": {},
   "source": [
    "## Model Config: Populate by Name\n",
    "\n",
    "We can however, configure our model to allow population by not just the alias, but the field name as well.\n",
    "\n",
    "To do that we have to provide a model configuration. We do this by creating another attribute in our model:"
   ]
  },
  {
   "cell_type": "code",
   "execution_count": 71,
   "metadata": {},
   "outputs": [],
   "source": [
    "from pydantic import ConfigDict\n",
    "\n",
    "class Person(BaseModel):\n",
    "    model_config = ConfigDict(populate_by_name=True)\n",
    "    \n",
    "    first_name : str | None = Field(alias='firstname', default=None)\n",
    "    last_name: str = Field(alias='lastname')"
   ]
  },
  {
   "cell_type": "markdown",
   "metadata": {},
   "source": [
    "And now we can deserialize using either the alias or the field name:"
   ]
  },
  {
   "cell_type": "code",
   "execution_count": 72,
   "metadata": {},
   "outputs": [
    {
     "name": "stdout",
     "output_type": "stream",
     "text": [
      "first_name='John' last_name='Smith'\n"
     ]
    }
   ],
   "source": [
    "p = Person(first_name='John', last_name='Smith')\n",
    "print(p)"
   ]
  },
  {
   "cell_type": "code",
   "execution_count": 73,
   "metadata": {},
   "outputs": [
    {
     "name": "stdout",
     "output_type": "stream",
     "text": [
      "first_name='John' last_name='Smith'\n"
     ]
    }
   ],
   "source": [
    "data = {\n",
    "    'first_name': 'John',\n",
    "    'last_name': 'Smith'\n",
    "}\n",
    "\n",
    "p = Person.model_validate(data)\n",
    "print(p)"
   ]
  },
  {
   "cell_type": "markdown",
   "metadata": {},
   "source": [
    "## Mutable Defaults\n",
    "\n",
    "Returning to defaults, one thing Pydantic can handle is setting default values to mutable objects - something that is usually problematic in Python, and diallowed (by default) in dataclasses.\n",
    "\n",
    "So, defining defaults this way is perfectly acceptable in Pydantic (Pydantic basically identifies mutable defaults, and creates a deepcopy of the default when creating new instances of the model):"
   ]
  },
  {
   "cell_type": "code",
   "execution_count": 74,
   "metadata": {},
   "outputs": [],
   "source": [
    "from typing import List\n",
    "\n",
    "class Model(BaseModel):\n",
    "    numbers: List[int] = []"
   ]
  },
  {
   "cell_type": "code",
   "execution_count": 75,
   "metadata": {},
   "outputs": [],
   "source": [
    "m1 = Model()\n",
    "m2 = Model()"
   ]
  },
  {
   "cell_type": "code",
   "execution_count": 77,
   "metadata": {},
   "outputs": [
    {
     "name": "stdout",
     "output_type": "stream",
     "text": [
      "numbers=[1, 2, 3, 1, 2, 3]\n"
     ]
    }
   ],
   "source": [
    "m1.numbers.extend([1, 2, 3])\n",
    "print(m1)"
   ]
  },
  {
   "cell_type": "code",
   "execution_count": 78,
   "metadata": {},
   "outputs": [
    {
     "data": {
      "text/plain": [
       "Model(numbers=[])"
      ]
     },
     "execution_count": 78,
     "metadata": {},
     "output_type": "execute_result"
    }
   ],
   "source": [
    "m2"
   ]
  },
  {
   "cell_type": "markdown",
   "metadata": {},
   "source": [
    "As, you can see, the default `[]` is not shared by the instances."
   ]
  },
  {
   "cell_type": "markdown",
   "metadata": {},
   "source": [
    "## Default Factories\n",
    "\n",
    "Sometimes however, we want to generate a default not as a static value, but rather as a value that should be calculated each time an instance is created that needs the default.\n",
    "\n",
    "We can do that using a **default factory**. Basically, we provide a function that Pydantic will call to generate the default value each time a model instance is created that requires that default.\n",
    "\n",
    "For example, suppose we want a default to be the current time at which the instance is created:"
   ]
  },
  {
   "cell_type": "code",
   "execution_count": 95,
   "metadata": {},
   "outputs": [],
   "source": [
    "from datetime import datetime, timezone\n",
    "\n",
    "class Log(BaseModel):\n",
    "    dt: datetime = Field(default_factory=lambda: datetime.now(timezone.utc))\n",
    "    message: str"
   ]
  },
  {
   "cell_type": "code",
   "execution_count": 96,
   "metadata": {},
   "outputs": [],
   "source": [
    "log1 = Log(message='message 1')"
   ]
  },
  {
   "cell_type": "code",
   "execution_count": 97,
   "metadata": {},
   "outputs": [],
   "source": [
    "log2 = Log(message='message 2')"
   ]
  },
  {
   "cell_type": "code",
   "execution_count": 98,
   "metadata": {},
   "outputs": [
    {
     "name": "stdout",
     "output_type": "stream",
     "text": [
      "dt=datetime.datetime(2024, 12, 10, 9, 35, 53, 224504, tzinfo=datetime.timezone.utc) message='message 1'\n"
     ]
    }
   ],
   "source": [
    "print(log1)"
   ]
  },
  {
   "cell_type": "code",
   "execution_count": 99,
   "metadata": {},
   "outputs": [
    {
     "name": "stdout",
     "output_type": "stream",
     "text": [
      "dt=datetime.datetime(2024, 12, 10, 9, 36, 0, 994378, tzinfo=datetime.timezone.utc) message='message 2'\n"
     ]
    }
   ],
   "source": [
    "print(log2)"
   ]
  },
  {
   "cell_type": "markdown",
   "metadata": {},
   "source": [
    "## Custom Serializers\n",
    "\n",
    "Pydantic has a default way of serializing data. For example, serializing floats will result in a certain number of digits after the deciaml point being used, dependent on the actual float:"
   ]
  },
  {
   "cell_type": "code",
   "execution_count": 100,
   "metadata": {},
   "outputs": [],
   "source": [
    "class Model(BaseModel):\n",
    "    number: float"
   ]
  },
  {
   "cell_type": "code",
   "execution_count": 101,
   "metadata": {},
   "outputs": [
    {
     "data": {
      "text/plain": [
       "{'number': 1.0}"
      ]
     },
     "execution_count": 101,
     "metadata": {},
     "output_type": "execute_result"
    }
   ],
   "source": [
    "m = Model(number=1.0)\n",
    "m.model_dump()"
   ]
  },
  {
   "cell_type": "code",
   "execution_count": 102,
   "metadata": {},
   "outputs": [
    {
     "data": {
      "text/plain": [
       "{'number': 0.3333333333333333}"
      ]
     },
     "execution_count": 102,
     "metadata": {},
     "output_type": "execute_result"
    }
   ],
   "source": [
    "m = Model(number=1/3)\n",
    "m.model_dump()"
   ]
  },
  {
   "cell_type": "markdown",
   "metadata": {},
   "source": [
    "Similarly, datetimes get serialized to JSON using the `isoformat()` method of datetimes:"
   ]
  },
  {
   "cell_type": "code",
   "execution_count": 104,
   "metadata": {},
   "outputs": [
    {
     "data": {
      "text/plain": [
       "'2024-12-10T09:38:45.572140+00:00'"
      ]
     },
     "execution_count": 104,
     "metadata": {},
     "output_type": "execute_result"
    }
   ],
   "source": [
    "dt = datetime.now(timezone.utc)\n",
    "dt.isoformat()"
   ]
  },
  {
   "cell_type": "code",
   "execution_count": 105,
   "metadata": {},
   "outputs": [],
   "source": [
    "class Model(BaseModel):\n",
    "    dt: datetime\n"
   ]
  },
  {
   "cell_type": "code",
   "execution_count": 106,
   "metadata": {},
   "outputs": [
    {
     "data": {
      "text/plain": [
       "{'dt': datetime.datetime(2024, 12, 10, 9, 39, 14, 239576, tzinfo=datetime.timezone.utc)}"
      ]
     },
     "execution_count": 106,
     "metadata": {},
     "output_type": "execute_result"
    }
   ],
   "source": [
    "m = Model(dt=datetime.now(timezone.utc))\n",
    "m.model_dump()"
   ]
  },
  {
   "cell_type": "markdown",
   "metadata": {},
   "source": [
    "We can choose to override this serialization\n",
    "\n",
    "We have to be a bit careful since we actually have tow modes of serialization: to a Python dictionary (so Python objects), and to JSON (so strings).\n",
    "\n",
    "Let's say we want to customize the float serialization so all floats are rounded to 2 decimal places, in both dictionary and JSON serialization."
   ]
  },
  {
   "cell_type": "code",
   "execution_count": 107,
   "metadata": {},
   "outputs": [],
   "source": [
    "from pydantic import field_serializer"
   ]
  },
  {
   "cell_type": "code",
   "execution_count": 108,
   "metadata": {},
   "outputs": [],
   "source": [
    "class Model(BaseModel):\n",
    "    number: float\n",
    "    \n",
    "    @field_serializer('number')\n",
    "    def serialize_float(self, value):\n",
    "        return round(value, 2)"
   ]
  },
  {
   "cell_type": "code",
   "execution_count": 109,
   "metadata": {},
   "outputs": [],
   "source": [
    "m = Model(number=1/3)"
   ]
  },
  {
   "cell_type": "code",
   "execution_count": 110,
   "metadata": {},
   "outputs": [
    {
     "data": {
      "text/plain": [
       "{'number': 0.33}"
      ]
     },
     "execution_count": 110,
     "metadata": {},
     "output_type": "execute_result"
    }
   ],
   "source": [
    "m.model_dump()"
   ]
  },
  {
   "cell_type": "code",
   "execution_count": 111,
   "metadata": {},
   "outputs": [
    {
     "data": {
      "text/plain": [
       "'{\"number\":0.33}'"
      ]
     },
     "execution_count": 111,
     "metadata": {},
     "output_type": "execute_result"
    }
   ],
   "source": [
    "m.model_dump_json()"
   ]
  },
  {
   "cell_type": "markdown",
   "metadata": {},
   "source": [
    "To specify the serializer for our `datetime` however, we only to affect the JSON serialization. We still want our dictionary serialization to output the actual datetime object.\n",
    "\n",
    "We can do that by specifying that our serializer should only apply to JSON serialization. In fact, we'll go one step further and only specify a serializer if serializing to JSON and if the value is not `None` (we can let Pydantic handle serializing `None` objects)."
   ]
  },
  {
   "cell_type": "code",
   "execution_count": 161,
   "metadata": {},
   "outputs": [],
   "source": [
    "class Model(BaseModel):\n",
    "    number: float\n",
    "    dt: datetime = Field(default_factory=lambda: datetime.now(timezone.utc))\n",
    "    \n",
    "    @field_serializer('number')\n",
    "    def serialize_float(self, value):\n",
    "        return round(value, 2)\n",
    "    \n",
    "    @field_serializer(\"dt\", when_used=\"json-unless-none\")\n",
    "    def serialize_datetime_to_json(self, value):\n",
    "        return value.strftime(\"%Y/%-m/%-d %I:%M %p\")"
   ]
  },
  {
   "cell_type": "code",
   "execution_count": 162,
   "metadata": {},
   "outputs": [
    {
     "name": "stdout",
     "output_type": "stream",
     "text": [
      "number=0.3333333333333333 dt=datetime.datetime(2024, 12, 10, 9, 53, 10, 271371, tzinfo=datetime.timezone.utc)\n"
     ]
    }
   ],
   "source": [
    "m = Model(number=1/3)\n",
    "print(m)"
   ]
  },
  {
   "cell_type": "code",
   "execution_count": 119,
   "metadata": {},
   "outputs": [
    {
     "data": {
      "text/plain": [
       "{'number': 0.33,\n",
       " 'dt': datetime.datetime(2024, 12, 10, 9, 47, 15, 135091, tzinfo=datetime.timezone.utc)}"
      ]
     },
     "execution_count": 119,
     "metadata": {},
     "output_type": "execute_result"
    }
   ],
   "source": [
    "m.model_dump()"
   ]
  },
  {
   "cell_type": "markdown",
   "metadata": {},
   "source": [
    "As you can see, `dt` serialization remained unaffacted, but when we serialize to JSON, our custom serializer is used."
   ]
  },
  {
   "cell_type": "code",
   "execution_count": 169,
   "metadata": {},
   "outputs": [
    {
     "ename": "PydanticSerializationError",
     "evalue": "Error serializing to JSON: PydanticSerializationError: Error calling function `serialize_datetime_to_json`: ValueError: Invalid format string",
     "output_type": "error",
     "traceback": [
      "\u001b[1;31m---------------------------------------------------------------------------\u001b[0m",
      "\u001b[1;31mPydanticSerializationError\u001b[0m                Traceback (most recent call last)",
      "Cell \u001b[1;32mIn[169], line 1\u001b[0m\n\u001b[1;32m----> 1\u001b[0m \u001b[43mm\u001b[49m\u001b[38;5;241;43m.\u001b[39;49m\u001b[43mmodel_dump_json\u001b[49m\u001b[43m(\u001b[49m\u001b[43m)\u001b[49m\n",
      "File \u001b[1;32md:\\pydantic-tutorial\\.venv\\Lib\\site-packages\\pydantic\\main.py:477\u001b[0m, in \u001b[0;36mBaseModel.model_dump_json\u001b[1;34m(self, indent, include, exclude, context, by_alias, exclude_unset, exclude_defaults, exclude_none, round_trip, warnings, serialize_as_any)\u001b[0m\n\u001b[0;32m    441\u001b[0m \u001b[38;5;28;01mdef\u001b[39;00m \u001b[38;5;21mmodel_dump_json\u001b[39m(\n\u001b[0;32m    442\u001b[0m     \u001b[38;5;28mself\u001b[39m,\n\u001b[0;32m    443\u001b[0m     \u001b[38;5;241m*\u001b[39m,\n\u001b[1;32m   (...)\u001b[0m\n\u001b[0;32m    454\u001b[0m     serialize_as_any: \u001b[38;5;28mbool\u001b[39m \u001b[38;5;241m=\u001b[39m \u001b[38;5;28;01mFalse\u001b[39;00m,\n\u001b[0;32m    455\u001b[0m ) \u001b[38;5;241m-\u001b[39m\u001b[38;5;241m>\u001b[39m \u001b[38;5;28mstr\u001b[39m:\n\u001b[0;32m    456\u001b[0m \u001b[38;5;250m    \u001b[39m\u001b[38;5;124;03m\"\"\"Usage docs: https://docs.pydantic.dev/2.10/concepts/serialization/#modelmodel_dump_json\u001b[39;00m\n\u001b[0;32m    457\u001b[0m \n\u001b[0;32m    458\u001b[0m \u001b[38;5;124;03m    Generates a JSON representation of the model using Pydantic's `to_json` method.\u001b[39;00m\n\u001b[1;32m   (...)\u001b[0m\n\u001b[0;32m    475\u001b[0m \u001b[38;5;124;03m        A JSON string representation of the model.\u001b[39;00m\n\u001b[0;32m    476\u001b[0m \u001b[38;5;124;03m    \"\"\"\u001b[39;00m\n\u001b[1;32m--> 477\u001b[0m     \u001b[38;5;28;01mreturn\u001b[39;00m \u001b[38;5;28;43mself\u001b[39;49m\u001b[38;5;241;43m.\u001b[39;49m\u001b[43m__pydantic_serializer__\u001b[49m\u001b[38;5;241;43m.\u001b[39;49m\u001b[43mto_json\u001b[49m\u001b[43m(\u001b[49m\n\u001b[0;32m    478\u001b[0m \u001b[43m        \u001b[49m\u001b[38;5;28;43mself\u001b[39;49m\u001b[43m,\u001b[49m\n\u001b[0;32m    479\u001b[0m \u001b[43m        \u001b[49m\u001b[43mindent\u001b[49m\u001b[38;5;241;43m=\u001b[39;49m\u001b[43mindent\u001b[49m\u001b[43m,\u001b[49m\n\u001b[0;32m    480\u001b[0m \u001b[43m        \u001b[49m\u001b[43minclude\u001b[49m\u001b[38;5;241;43m=\u001b[39;49m\u001b[43minclude\u001b[49m\u001b[43m,\u001b[49m\n\u001b[0;32m    481\u001b[0m \u001b[43m        \u001b[49m\u001b[43mexclude\u001b[49m\u001b[38;5;241;43m=\u001b[39;49m\u001b[43mexclude\u001b[49m\u001b[43m,\u001b[49m\n\u001b[0;32m    482\u001b[0m \u001b[43m        \u001b[49m\u001b[43mcontext\u001b[49m\u001b[38;5;241;43m=\u001b[39;49m\u001b[43mcontext\u001b[49m\u001b[43m,\u001b[49m\n\u001b[0;32m    483\u001b[0m \u001b[43m        \u001b[49m\u001b[43mby_alias\u001b[49m\u001b[38;5;241;43m=\u001b[39;49m\u001b[43mby_alias\u001b[49m\u001b[43m,\u001b[49m\n\u001b[0;32m    484\u001b[0m \u001b[43m        \u001b[49m\u001b[43mexclude_unset\u001b[49m\u001b[38;5;241;43m=\u001b[39;49m\u001b[43mexclude_unset\u001b[49m\u001b[43m,\u001b[49m\n\u001b[0;32m    485\u001b[0m \u001b[43m        \u001b[49m\u001b[43mexclude_defaults\u001b[49m\u001b[38;5;241;43m=\u001b[39;49m\u001b[43mexclude_defaults\u001b[49m\u001b[43m,\u001b[49m\n\u001b[0;32m    486\u001b[0m \u001b[43m        \u001b[49m\u001b[43mexclude_none\u001b[49m\u001b[38;5;241;43m=\u001b[39;49m\u001b[43mexclude_none\u001b[49m\u001b[43m,\u001b[49m\n\u001b[0;32m    487\u001b[0m \u001b[43m        \u001b[49m\u001b[43mround_trip\u001b[49m\u001b[38;5;241;43m=\u001b[39;49m\u001b[43mround_trip\u001b[49m\u001b[43m,\u001b[49m\n\u001b[0;32m    488\u001b[0m \u001b[43m        \u001b[49m\u001b[43mwarnings\u001b[49m\u001b[38;5;241;43m=\u001b[39;49m\u001b[43mwarnings\u001b[49m\u001b[43m,\u001b[49m\n\u001b[0;32m    489\u001b[0m \u001b[43m        \u001b[49m\u001b[43mserialize_as_any\u001b[49m\u001b[38;5;241;43m=\u001b[39;49m\u001b[43mserialize_as_any\u001b[49m\u001b[43m,\u001b[49m\n\u001b[0;32m    490\u001b[0m \u001b[43m    \u001b[49m\u001b[43m)\u001b[49m\u001b[38;5;241m.\u001b[39mdecode()\n",
      "\u001b[1;31mPydanticSerializationError\u001b[0m: Error serializing to JSON: PydanticSerializationError: Error calling function `serialize_datetime_to_json`: ValueError: Invalid format string"
     ]
    }
   ],
   "source": [
    "m.model_dump_json()"
   ]
  },
  {
   "cell_type": "markdown",
   "metadata": {},
   "source": [
    "## Custom Validators\n",
    "\n",
    "There are different types of validators available in Pydantic. One type are **before** validators, that run before Pydantic has a chance to validate and coerce the data according to our field definition. The second type are **after** validators that happen after Pydantic has already processed the raw data, validated it and coerced it to the proper type, as defined by the field definition."
   ]
  },
  {
   "cell_type": "markdown",
   "metadata": {},
   "source": [
    "Before validators can be very handy to provide custom parsing of data that Pydantic would otherwise be unable to do. For example deserializing a date provided in a format that Python does not recognize (e.g. `2024/1/1 3:15pm`).\n",
    "\n",
    "Here, I am only going to cover after validators - Pydantic's docs has more information on before validators."
   ]
  },
  {
   "cell_type": "markdown",
   "metadata": {},
   "source": [
    "Validators are not just validation functions - they are also **transformation** functions - for example Pydantic's validators can modify the type of the data being deserialized to coerce it into the proper type. Many of Pydantic's pre-defined special types also perform both validation and transformation."
   ]
  },
  {
   "cell_type": "markdown",
   "metadata": {},
   "source": [
    "An after validator can therefore be used to transform the data as it is being deserialized.\n",
    "\n",
    "Let's take a look:"
   ]
  },
  {
   "cell_type": "code",
   "execution_count": 170,
   "metadata": {},
   "outputs": [],
   "source": [
    "from pydantic import field_validator"
   ]
  },
  {
   "cell_type": "code",
   "execution_count": 171,
   "metadata": {},
   "outputs": [],
   "source": [
    "class Model(BaseModel):\n",
    "    absolute: int\n",
    "    \n",
    "    @field_validator(\"absolute\")\n",
    "    @classmethod\n",
    "    def make_absolute(cls, value):\n",
    "        return abs(value)"
   ]
  },
  {
   "cell_type": "code",
   "execution_count": 172,
   "metadata": {},
   "outputs": [
    {
     "data": {
      "text/plain": [
       "Model(absolute=10)"
      ]
     },
     "execution_count": 172,
     "metadata": {},
     "output_type": "execute_result"
    }
   ],
   "source": [
    "Model(absolute=-10)"
   ]
  },
  {
   "cell_type": "markdown",
   "metadata": {},
   "source": [
    "As you can see, our custom validator **transformed** the input value.\n",
    "\n",
    "One thing that's very important to note is that our custom validator, being an **after** validator will get called once Pydantic has had a change to parse the input data to an int. If that validation fails, our custom validator will not even get called."
   ]
  },
  {
   "cell_type": "code",
   "execution_count": 176,
   "metadata": {},
   "outputs": [],
   "source": [
    "class Model(BaseModel):\n",
    "    absolute: int\n",
    "    \n",
    "    @field_validator(\"absolute\")\n",
    "    @classmethod\n",
    "    def make_absolute(cls, value):\n",
    "        print(f\"Running custom validator: {value=}, {type(value)=}\")\n",
    "        return abs(value)"
   ]
  },
  {
   "cell_type": "code",
   "execution_count": 178,
   "metadata": {},
   "outputs": [
    {
     "name": "stdout",
     "output_type": "stream",
     "text": [
      "Running custom validator: value=-10, type(value)=<class 'int'>\n",
      "absolute=10\n"
     ]
    }
   ],
   "source": [
    "print(Model(absolute=-10))"
   ]
  },
  {
   "cell_type": "markdown",
   "metadata": {},
   "source": [
    "Let's pass something that is not an integer, but can be coerced to an integer:"
   ]
  },
  {
   "cell_type": "code",
   "execution_count": 179,
   "metadata": {},
   "outputs": [
    {
     "name": "stdout",
     "output_type": "stream",
     "text": [
      "Running custom validator: value=-10, type(value)=<class 'int'>\n"
     ]
    },
    {
     "data": {
      "text/plain": [
       "Model(absolute=10)"
      ]
     },
     "execution_count": 179,
     "metadata": {},
     "output_type": "execute_result"
    }
   ],
   "source": [
    "Model(absolute='-10')"
   ]
  },
  {
   "cell_type": "markdown",
   "metadata": {},
   "source": [
    "As you can see, our validator received an integer, not a string.\n",
    "\n",
    "And if Pydantic's validation fails, our validator is not called:"
   ]
  },
  {
   "cell_type": "code",
   "execution_count": 180,
   "metadata": {},
   "outputs": [
    {
     "name": "stdout",
     "output_type": "stream",
     "text": [
      "1 validation error for Model\n",
      "absolute\n",
      "  Input should be a valid integer, unable to parse string as an integer [type=int_parsing, input_value='abc', input_type=str]\n",
      "    For further information visit https://errors.pydantic.dev/2.10/v/int_parsing\n"
     ]
    }
   ],
   "source": [
    "try:\n",
    "    Model(absolute='abc')\n",
    "except ValidationError as e:\n",
    "    print(e)"
   ]
  },
  {
   "cell_type": "markdown",
   "metadata": {},
   "source": [
    "Notice our custom validator's print statement never executed.\n",
    "\n",
    "We can of course, also use custom validators to perform validation.\n",
    "\n",
    "Let's say we want to define a field that should be a list of unique integers.\n",
    "\n",
    "We can do it this way:"
   ]
  },
  {
   "cell_type": "code",
   "execution_count": 181,
   "metadata": {},
   "outputs": [],
   "source": [
    "class Model(BaseModel):\n",
    "    numbers: list[int] = []\n",
    "    \n",
    "    @field_validator(\"numbers\")\n",
    "    @classmethod\n",
    "    def ensure_unique(cls, numbers):\n",
    "        if len(set(numbers)) != len(numbers):\n",
    "            raise ValueError(\"elements must be unique\")\n",
    "        return numbers"
   ]
  },
  {
   "cell_type": "code",
   "execution_count": 184,
   "metadata": {},
   "outputs": [
    {
     "name": "stdout",
     "output_type": "stream",
     "text": [
      "numbers=[1, 2, 3]\n"
     ]
    }
   ],
   "source": [
    "print(Model(numbers=[1, 2, 3]))"
   ]
  },
  {
   "cell_type": "code",
   "execution_count": 185,
   "metadata": {},
   "outputs": [
    {
     "name": "stdout",
     "output_type": "stream",
     "text": [
      "1 validation error for Model\n",
      "numbers\n",
      "  Value error, elements must be unique [type=value_error, input_value=[1, 1, 2, 3], input_type=list]\n",
      "    For further information visit https://errors.pydantic.dev/2.10/v/value_error\n"
     ]
    }
   ],
   "source": [
    "try:\n",
    "    Model(numbers=[1, 1, 2, 3])\n",
    "except ValidationError as e:\n",
    "    print(e)\n"
   ]
  },
  {
   "cell_type": "markdown",
   "metadata": {},
   "source": [
    "Notice how I raised a `ValueError` error. If you want to raise a Pydantic `ValidationException`, you shoudl raise a `ValueError`. Most of the other exception types (such as `TypeError`, `KeyError`, etc) will bubble up as those exceptions, not a `ValidationError` exception). There are a few other errors you can raise that will result in a `ValidationError` exception, but by far `ValueError` is the easiest and safest way to do so."
   ]
  },
  {
   "cell_type": "markdown",
   "metadata": {},
   "source": [
    "## Nested Models\n",
    "\n",
    "You can nest Pydantic models, and deserialization and serialization of the sub models will be handled by Pydantic automatically.\n",
    "\n",
    "For example, let's say we want to create a model to deserialize this data:"
   ]
  },
  {
   "cell_type": "code",
   "execution_count": 186,
   "metadata": {},
   "outputs": [],
   "source": [
    "data = {\n",
    "    \"firstName\": \"Arthur\",\n",
    "    \"lastName\": \"Clarke\",\n",
    "    \"born\": {\n",
    "        \"place\": {\n",
    "            \"country\": \"Lunar Colony\",\n",
    "            \"city\": \"Central City\",\n",
    "        },\n",
    "        \"date\": \"3001-01-01\",\n",
    "    }\n",
    "}"
   ]
  },
  {
   "cell_type": "markdown",
   "metadata": {},
   "source": [
    "As you can see we have three levels of nested dictionaries - which we can model this way:"
   ]
  },
  {
   "cell_type": "code",
   "execution_count": 187,
   "metadata": {},
   "outputs": [],
   "source": [
    "from datetime import date\n",
    "\n",
    "class Place(BaseModel):\n",
    "    country: str\n",
    "    city: str\n",
    "\n",
    "class Born(BaseModel):\n",
    "    place: Place\n",
    "    dt: date = Field(alias=\"date\")\n",
    "    \n",
    "class Person(BaseModel):\n",
    "    first_name: str | None = Field(alias=\"firstName\", default=None)\n",
    "    last_name: str = Field(alias=\"lastName\")\n",
    "    born: Born"
   ]
  },
  {
   "cell_type": "code",
   "execution_count": 188,
   "metadata": {},
   "outputs": [
    {
     "name": "stdout",
     "output_type": "stream",
     "text": [
      "first_name='Arthur' last_name='Clarke' born=Born(place=Place(country='Lunar Colony', city='Central City'), dt=datetime.date(3001, 1, 1))\n"
     ]
    }
   ],
   "source": [
    "arthur = Person.model_validate(data)\n",
    "print(arthur)"
   ]
  },
  {
   "cell_type": "markdown",
   "metadata": {},
   "source": [
    "And of course, we can now access all these fields using object dot notation:"
   ]
  },
  {
   "cell_type": "code",
   "execution_count": 189,
   "metadata": {},
   "outputs": [
    {
     "data": {
      "text/plain": [
       "'Lunar Colony'"
      ]
     },
     "execution_count": 189,
     "metadata": {},
     "output_type": "execute_result"
    }
   ],
   "source": [
    "arthur.born.place.country"
   ]
  }
 ],
 "metadata": {
  "kernelspec": {
   "display_name": ".venv",
   "language": "python",
   "name": "python3"
  },
  "language_info": {
   "codemirror_mode": {
    "name": "ipython",
    "version": 3
   },
   "file_extension": ".py",
   "mimetype": "text/x-python",
   "name": "python",
   "nbconvert_exporter": "python",
   "pygments_lexer": "ipython3",
   "version": "3.12.4"
  }
 },
 "nbformat": 4,
 "nbformat_minor": 2
}
