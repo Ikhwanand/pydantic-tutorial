{
 "cells": [
  {
   "cell_type": "markdown",
   "metadata": {},
   "source": [
    "# Intro Pydantic V2\n",
    "\n",
    "Pydantic is a popular Python library for buiding robust, scalable, and maintainable data models. Here's an overview of the library and its key features:\n",
    "\n",
    "### What is Pydantic?\n",
    "\n",
    "Pydantic is a Python library that provides a simple and intuitive way to define data models using Python type hints. It allows you to create robust, scalable, and maintainable data models with automatic validation, serialization, and deserialization.\n",
    "\n",
    "### Key Features of Pydantic\n",
    "\n",
    "1. **Data Validation**: Pydantic provides automatic data validation based on the type hints you define in your data model. This ensures that your data conforms to the expected structure and format.\n",
    "2. **Serialization and Deserialization**: Pydantic allows you to serialize and deserialize your data models to and from various formats, such as JSON, XML, and CSV.\n",
    "3. **Type Hints**: Pydantic uses Python type hints to define the structure of your data models. This makes it easy to understand and maintain your code.\n",
    "4. **Error Handling**: Pydantic provides robust error handling mechanisms to help you handle validation erros and other issues that may arise during data processing.\n",
    "5. **Extensibility**: Pydantic is highly extensible, allowing you to customize its behavior and add new features as needed.\n"
   ]
  },
  {
   "cell_type": "markdown",
   "metadata": {},
   "source": [
    "## Basic Example\n",
    "\n",
    "Here's a simple example of a Pydantic data model:"
   ]
  },
  {
   "cell_type": "code",
   "execution_count": 13,
   "metadata": {},
   "outputs": [
    {
     "name": "stdout",
     "output_type": "stream",
     "text": [
      "id=1 name='John Doe' email='johndoe@example.com'\n"
     ]
    }
   ],
   "source": [
    "from pydantic import BaseModel, field_validator\n",
    "\n",
    "class User(BaseModel):\n",
    "    id: int \n",
    "    name: str\n",
    "    email: str\n",
    "\n",
    "user = User(id=1, name='John Doe', email='johndoe@example.com')\n",
    "print(user)"
   ]
  },
  {
   "cell_type": "markdown",
   "metadata": {},
   "source": [
    "In this example, we define a `User` data model with three fields: `id`, `name`, and `email`. We then create an instance of the `User` model and print it ot the console."
   ]
  },
  {
   "cell_type": "markdown",
   "metadata": {},
   "source": [
    "### Advanced Features\n",
    "\n",
    "Pydantic has many advanced features that make it a powerful tool for building robust data models. Some of these features include:\n",
    "\n",
    "* `Nested Models`: Pydantic allows you to define nested models, which enable you to create complex data structures with ease.\n",
    "* `List and Tuple Fields`: Pydantic supports list and tuple fields, which enable you to define collections of data.\n",
    "* `Enum Fields`: Pydantic supports enum fields, which enable you to define a set of allowed values for a field.\n",
    "* `Custom Validators`: Pydantic allows you to define custom validators, which enable you to perform complex validation logic."
   ]
  },
  {
   "cell_type": "markdown",
   "metadata": {},
   "source": [
    "### Use Cases\n",
    "\n",
    "Pydantic is a versatile library that can be used in a wide range of applications, including:\n",
    "\n",
    "* `API Development`: Pydantic is a great choice for building robust API data models that can be handle complex data structures and validation logic.\n",
    "* `Data Science`: Pydantic can be used to define data models for data science applications, such as data preprocessing, feature engineering, and machine learning.\n",
    "* `Web Development`: Pydantic can be used to define data models for web applications, such as user authentication, authorization, and data storage."
   ]
  },
  {
   "cell_type": "markdown",
   "metadata": {},
   "source": [
    "Here's an example of how you can define a Pydantic data model with nested fields:"
   ]
  },
  {
   "cell_type": "code",
   "execution_count": 18,
   "metadata": {},
   "outputs": [
    {
     "name": "stdout",
     "output_type": "stream",
     "text": [
      "id=1 name='John Doe' email='john.doe@example.com' address=Address(street='123 Main St', city='Anytown', state='CA', zip='12344')\n",
      "{'id': 1, 'name': 'John Doe', 'email': 'john.doe@example.com', 'address': {'street': '123 Main St', 'city': 'Anytown', 'state': 'CA', 'zip': '12344'}}\n",
      "{'$defs': {'Address': {'properties': {'street': {'title': 'Street', 'type': 'string'}, 'city': {'title': 'City', 'type': 'string'}, 'state': {'title': 'State', 'type': 'string'}, 'zip': {'title': 'Zip', 'type': 'string'}}, 'required': ['street', 'city', 'state', 'zip'], 'title': 'Address', 'type': 'object'}}, 'properties': {'id': {'title': 'Id', 'type': 'integer'}, 'name': {'title': 'Name', 'type': 'string'}, 'email': {'title': 'Email', 'type': 'string'}, 'address': {'$ref': '#/$defs/Address'}}, 'required': ['id', 'name', 'email', 'address'], 'title': 'User', 'type': 'object'}\n"
     ]
    }
   ],
   "source": [
    "from pydantic import BaseModel\n",
    "\n",
    "class Address(BaseModel):\n",
    "    street: str\n",
    "    city: str\n",
    "    state: str\n",
    "    zip: str \n",
    "    \n",
    "class User(BaseModel):\n",
    "    id: int \n",
    "    name: str \n",
    "    email: str \n",
    "    address: Address \n",
    "\n",
    "user = User(\n",
    "    id=1,\n",
    "    name='John Doe',\n",
    "    email='john.doe@example.com',\n",
    "    address=Address(\n",
    "        street='123 Main St',\n",
    "        city='Anytown',\n",
    "        state='CA',\n",
    "        zip='12344',\n",
    "    )\n",
    ")\n",
    "\n",
    "print(user)\n",
    "print(user.model_dump())\n",
    "print(user.model_json_schema())"
   ]
  },
  {
   "cell_type": "markdown",
   "metadata": {},
   "source": [
    "In this example, we define two Pydantic data models: `Address` and `User`. The `User` model has a nested `address` field, which is an instance of the `Address` model. We then create an instance of the `User` model and print it to the console.\n",
    "\n",
    "You can also use the `Optional` type to indicate that a field is optional:"
   ]
  },
  {
   "cell_type": "code",
   "execution_count": 20,
   "metadata": {},
   "outputs": [
    {
     "name": "stdout",
     "output_type": "stream",
     "text": [
      "id=1 name='John Doe' email='john.doe@example.com' address=None\n"
     ]
    }
   ],
   "source": [
    "from pydantic import BaseModel\n",
    "from typing import Optional\n",
    "\n",
    "class User(BaseModel):\n",
    "    id: int \n",
    "    name: str \n",
    "    email: str  \n",
    "    address: Optional[Address] = None \n",
    "\n",
    "user = User(\n",
    "    id=1,\n",
    "    name='John Doe',\n",
    "    email='john.doe@example.com',\n",
    ")\n",
    "\n",
    "print(user)"
   ]
  },
  {
   "cell_type": "markdown",
   "metadata": {},
   "source": [
    "In this example, we define the `address` field as an `Optional[Address]`, which means that it can be either an instance of the `Address` model or `None`. We then create an instance of the `User` model without providing an `address` field, and print it to the console. The `address` field is automatically set to `None`.\n",
    "\n",
    "You can also use the `List` type to define a field that is a list of values:"
   ]
  },
  {
   "cell_type": "code",
   "execution_count": 22,
   "metadata": {},
   "outputs": [
    {
     "name": "stdout",
     "output_type": "stream",
     "text": [
      "id=1 name='John Doe' email='john.doe@example.com' interests=['reading', 'hiking', 'coding']\n"
     ]
    }
   ],
   "source": [
    "from pydantic import BaseModel\n",
    "from typing import List \n",
    "\n",
    "class User(BaseModel):\n",
    "    id: int \n",
    "    name: str \n",
    "    email: str\n",
    "    interests: List[str]\n",
    "\n",
    "user = User(\n",
    "    id=1,\n",
    "    name='John Doe',\n",
    "    email='john.doe@example.com',\n",
    "    interests=['reading', 'hiking', 'coding'],\n",
    ")\n",
    "\n",
    "print(user)"
   ]
  },
  {
   "cell_type": "markdown",
   "metadata": {},
   "source": [
    "In this example, we define the `interests` field as a `List[str]`, which means that it is a list of strings. We then create an instance of the `User` model with a list of interests, and print it to the console."
   ]
  },
  {
   "cell_type": "markdown",
   "metadata": {},
   "source": [
    "### Pydantic Data Models\n",
    "\n",
    "Pydantic data models are the core of the library. They are used to define the structure and valdiation rules for your data. Here's an example of a simple Pydantic data model:"
   ]
  },
  {
   "cell_type": "code",
   "execution_count": 23,
   "metadata": {},
   "outputs": [],
   "source": [
    "from pydantic import BaseModel\n",
    "\n",
    "class User(BaseModel):\n",
    "    id: int \n",
    "    name: str \n",
    "    email: str  \n"
   ]
  },
  {
   "cell_type": "markdown",
   "metadata": {},
   "source": [
    "In this example, we define a `User` data model with three fields: `id`, `name`, and `email`. Each field has a specific type, which is used to validate the data.\n",
    "\n",
    "### Field Types\n",
    "\n",
    "Pydantic supports a wide range of field types, including:\n",
    "\n",
    "* `int`: Integer values\n",
    "* `str`: String values\n",
    "* `float`: Floating-point values\n",
    "* `bool`: Boolean values\n",
    "* `datetime`: Date and time values\n",
    "* `List`: Lists of values\n",
    "* `Dict`: Dictionaries of values\n",
    "* `Optional`: Optional values\n",
    "* `Any`: Any value\n",
    "* `Tuple`: Tuples of values\n",
    "* `Set`: Sets of values\n",
    "* `Union`: Union of multiple types (e.g. `str` | `int`)\n",
    "\n",
    "You can also use Pydantic's built-in types, such as:\n",
    "\n",
    "* `UUID`: UUID values\n",
    "* `DateTime`: Date and time values\n",
    "* `Date`: Date values\n",
    "* `Time`: Time values\n",
    "* `Decimal`: Decimal values"
   ]
  },
  {
   "cell_type": "markdown",
   "metadata": {},
   "source": [
    "### Validation\n",
    "\n",
    "Pydantic performs validation on the data when it's created or updated. Validation checks that the data conforms to the expected structure and format. Here's an example of validation in action:"
   ]
  },
  {
   "cell_type": "code",
   "execution_count": 25,
   "metadata": {},
   "outputs": [],
   "source": [
    "from pydantic import BaseModel, ValidationError\n",
    "\n",
    "class User(BaseModel):\n",
    "    id: int \n",
    "    name: str\n",
    "    email: str \n",
    "    \n",
    "try:\n",
    "    user = User(id=1, name='John Doe', email='johndoe@example.com')\n",
    "except ValidationError as e:\n",
    "    print(e)"
   ]
  },
  {
   "cell_type": "markdown",
   "metadata": {},
   "source": [
    "In this example, we try to create a `User` instance with an invalid `id` field (a string instead of an integer). Pydantic raises a `ValidationError` exception, which we catch and print."
   ]
  },
  {
   "cell_type": "markdown",
   "metadata": {},
   "source": [
    "### Serialization and Deserialization\n",
    "\n",
    "Pydantic provides built-in support for serialization and deserialization of data models to and from various formats, such as JSON, XML, and CSV.\n",
    "\n",
    "Here's an example fo serializing a `User` instance to JSON:"
   ]
  },
  {
   "cell_type": "code",
   "execution_count": 32,
   "metadata": {},
   "outputs": [
    {
     "name": "stdout",
     "output_type": "stream",
     "text": [
      "{\"id\":1,\"name\":\"John Doe\",\"email\":\"johndoe@example.com\"}\n",
      "id=1 name='John Doe' email='johndoe@example.com'\n"
     ]
    }
   ],
   "source": [
    "from pydantic import BaseModel\n",
    " \n",
    "\n",
    "class User(BaseModel):\n",
    "    id: int  \n",
    "    name: str \n",
    "    email: str  \n",
    "    \n",
    "user = User(id=1, name='John Doe', email='johndoe@example.com')\n",
    "json_data = user.model_dump_json()\n",
    "print(json_data)\n",
    "print(User.model_validate_json(json_data))"
   ]
  },
  {
   "cell_type": "markdown",
   "metadata": {},
   "source": [
    "### Custom Validation\n",
    "\n",
    "Pydantic allows you to define custom validation logic using the `@root_validator` decorator. Here's an example:"
   ]
  },
  {
   "cell_type": "code",
   "execution_count": 55,
   "metadata": {},
   "outputs": [
    {
     "ename": "ValidationError",
     "evalue": "1 validation error for User\n  Value error, Email is required [type=value_error, input_value={'id': 1, 'name': 'John D...: 'johndoe#example.com'}, input_type=dict]\n    For further information visit https://errors.pydantic.dev/2.10/v/value_error",
     "output_type": "error",
     "traceback": [
      "\u001b[1;31m---------------------------------------------------------------------------\u001b[0m",
      "\u001b[1;31mValidationError\u001b[0m                           Traceback (most recent call last)",
      "Cell \u001b[1;32mIn[55], line 15\u001b[0m\n\u001b[0;32m     11\u001b[0m             \u001b[38;5;28;01mraise\u001b[39;00m \u001b[38;5;167;01mValueError\u001b[39;00m(\u001b[38;5;124m'\u001b[39m\u001b[38;5;124mEmail is required\u001b[39m\u001b[38;5;124m'\u001b[39m)\n\u001b[0;32m     12\u001b[0m         \u001b[38;5;28;01mreturn\u001b[39;00m values\n\u001b[1;32m---> 15\u001b[0m user \u001b[38;5;241m=\u001b[39m \u001b[43mUser\u001b[49m\u001b[43m(\u001b[49m\u001b[38;5;28;43mid\u001b[39;49m\u001b[38;5;241;43m=\u001b[39;49m\u001b[38;5;241;43m1\u001b[39;49m\u001b[43m,\u001b[49m\u001b[43m \u001b[49m\u001b[43mname\u001b[49m\u001b[38;5;241;43m=\u001b[39;49m\u001b[38;5;124;43m'\u001b[39;49m\u001b[38;5;124;43mJohn Doe\u001b[39;49m\u001b[38;5;124;43m'\u001b[39;49m\u001b[43m,\u001b[49m\u001b[43m \u001b[49m\u001b[43memail\u001b[49m\u001b[38;5;241;43m=\u001b[39;49m\u001b[38;5;124;43m'\u001b[39;49m\u001b[38;5;124;43mjohndoe#example.com\u001b[39;49m\u001b[38;5;124;43m'\u001b[39;49m\u001b[43m)\u001b[49m\n\u001b[0;32m     16\u001b[0m \u001b[38;5;28mprint\u001b[39m(user)\n",
      "File \u001b[1;32md:\\pydantic-tutorial\\.venv\\Lib\\site-packages\\pydantic\\main.py:214\u001b[0m, in \u001b[0;36mBaseModel.__init__\u001b[1;34m(self, **data)\u001b[0m\n\u001b[0;32m    212\u001b[0m \u001b[38;5;66;03m# `__tracebackhide__` tells pytest and some other tools to omit this function from tracebacks\u001b[39;00m\n\u001b[0;32m    213\u001b[0m __tracebackhide__ \u001b[38;5;241m=\u001b[39m \u001b[38;5;28;01mTrue\u001b[39;00m\n\u001b[1;32m--> 214\u001b[0m validated_self \u001b[38;5;241m=\u001b[39m \u001b[38;5;28;43mself\u001b[39;49m\u001b[38;5;241;43m.\u001b[39;49m\u001b[43m__pydantic_validator__\u001b[49m\u001b[38;5;241;43m.\u001b[39;49m\u001b[43mvalidate_python\u001b[49m\u001b[43m(\u001b[49m\u001b[43mdata\u001b[49m\u001b[43m,\u001b[49m\u001b[43m \u001b[49m\u001b[43mself_instance\u001b[49m\u001b[38;5;241;43m=\u001b[39;49m\u001b[38;5;28;43mself\u001b[39;49m\u001b[43m)\u001b[49m\n\u001b[0;32m    215\u001b[0m \u001b[38;5;28;01mif\u001b[39;00m \u001b[38;5;28mself\u001b[39m \u001b[38;5;129;01mis\u001b[39;00m \u001b[38;5;129;01mnot\u001b[39;00m validated_self:\n\u001b[0;32m    216\u001b[0m     warnings\u001b[38;5;241m.\u001b[39mwarn(\n\u001b[0;32m    217\u001b[0m         \u001b[38;5;124m'\u001b[39m\u001b[38;5;124mA custom validator is returning a value other than `self`.\u001b[39m\u001b[38;5;130;01m\\n\u001b[39;00m\u001b[38;5;124m'\u001b[39m\n\u001b[0;32m    218\u001b[0m         \u001b[38;5;124m\"\u001b[39m\u001b[38;5;124mReturning anything other than `self` from a top level model validator isn\u001b[39m\u001b[38;5;124m'\u001b[39m\u001b[38;5;124mt supported when validating via `__init__`.\u001b[39m\u001b[38;5;130;01m\\n\u001b[39;00m\u001b[38;5;124m\"\u001b[39m\n\u001b[0;32m    219\u001b[0m         \u001b[38;5;124m'\u001b[39m\u001b[38;5;124mSee the `model_validator` docs (https://docs.pydantic.dev/latest/concepts/validators/#model-validators) for more details.\u001b[39m\u001b[38;5;124m'\u001b[39m,\n\u001b[0;32m    220\u001b[0m         stacklevel\u001b[38;5;241m=\u001b[39m\u001b[38;5;241m2\u001b[39m,\n\u001b[0;32m    221\u001b[0m     )\n",
      "\u001b[1;31mValidationError\u001b[0m: 1 validation error for User\n  Value error, Email is required [type=value_error, input_value={'id': 1, 'name': 'John D...: 'johndoe#example.com'}, input_type=dict]\n    For further information visit https://errors.pydantic.dev/2.10/v/value_error"
     ]
    }
   ],
   "source": [
    "from pydantic import BaseModel, model_validator\n",
    "\n",
    "class User(BaseModel):\n",
    "    id: int  \n",
    "    name: str  \n",
    "    email: str \n",
    "    \n",
    "    @model_validator(mode='after')\n",
    "    def validate_email(cls, values):\n",
    "        if 'email' not in values:\n",
    "            raise ValueError('Email is required')\n",
    "        return values\n",
    "\n",
    "    \n",
    "user = User(id=1, name='John Doe', email='johndoe#example.com')\n",
    "print(user)"
   ]
  },
  {
   "cell_type": "markdown",
   "metadata": {},
   "source": [
    "In this example, we define a custom validator that checks if the `email` field is present. If it's not, it raises a `ValueError`."
   ]
  },
  {
   "cell_type": "markdown",
   "metadata": {},
   "source": [
    "### Inheritance\n",
    "\n",
    "Pydantic supports inheritance, which allows you to create a new data model that inherits fields and validation logic from a parent model. Here's an example:"
   ]
  },
  {
   "cell_type": "code",
   "execution_count": 56,
   "metadata": {},
   "outputs": [
    {
     "name": "stdout",
     "output_type": "stream",
     "text": [
      "id=1 name='John Doe' email='johndoe@example.com' role='User' is_active=True\n"
     ]
    }
   ],
   "source": [
    "from pydantic import BaseModel\n",
    "\n",
    "class User(BaseModel):\n",
    "    id: int \n",
    "    name: str \n",
    "    email: str \n",
    "    \n",
    "class AdminUser(User):\n",
    "    role: str \n",
    "    is_active: bool \n",
    "    \n",
    "admin_user = AdminUser(id=1, name='John Doe', email='johndoe@example.com', \n",
    "                       role='User', is_active=True)\n",
    "print(admin_user)"
   ]
  },
  {
   "cell_type": "markdown",
   "metadata": {},
   "source": [
    "In this example, we define a `User` data model and an `AdminUser` data model that inherits from `User`. The `AdminUser` model adds a new `role` and `is_active` field."
   ]
  },
  {
   "cell_type": "markdown",
   "metadata": {},
   "source": [
    "### Config\n",
    "\n",
    "Pydantic provides a `Config` class that allows you to customize the behavior of your data models. Here's an example:"
   ]
  },
  {
   "cell_type": "code",
   "execution_count": 65,
   "metadata": {},
   "outputs": [
    {
     "name": "stdout",
     "output_type": "stream",
     "text": [
      "id=1 name='John Doe' email='johndoe@example.com'\n"
     ]
    }
   ],
   "source": [
    "from pydantic import BaseModel\n",
    "\n",
    "class User(BaseModel):\n",
    "    id: int \n",
    "    name: str\n",
    "    email: str\n",
    "\n",
    "\n",
    "user = User(id=1, name='John Doe', email='johndoe@example.com')\n",
    "print(user)"
   ]
  },
  {
   "cell_type": "code",
   "execution_count": 66,
   "metadata": {},
   "outputs": [
    {
     "name": "stdout",
     "output_type": "stream",
     "text": [
      "id=1 name='John Doe' email='johndoe@example.com' addresses=[Address(street='123 Main St', city='Anytown', state='CA', zip='12345'), Address(street='456 Elm St', city='Othertown', state='NY', zip='67890')]\n"
     ]
    }
   ],
   "source": [
    "from pydantic import BaseModel\n",
    "from typing import List\n",
    "\n",
    "class Address(BaseModel):\n",
    "    street: str\n",
    "    city: str\n",
    "    state: str\n",
    "    zip: str\n",
    "\n",
    "class User(BaseModel):\n",
    "    id: int\n",
    "    name: str\n",
    "    email: str\n",
    "    addresses: List[Address]\n",
    "\n",
    "user = User(\n",
    "    id=1,\n",
    "    name=\"John Doe\",\n",
    "    email=\"johndoe@example.com\",\n",
    "    addresses=[\n",
    "        Address(street=\"123 Main St\", city=\"Anytown\", state=\"CA\", zip=\"12345\"),\n",
    "        Address(street=\"456 Elm St\", city=\"Othertown\", state=\"NY\", zip=\"67890\")\n",
    "    ]\n",
    ")\n",
    "\n",
    "print(user)"
   ]
  },
  {
   "cell_type": "code",
   "execution_count": 67,
   "metadata": {},
   "outputs": [
    {
     "name": "stdout",
     "output_type": "stream",
     "text": [
      "id=1 name='John Doe' email='johndoe@example.com' addresses=(Address(street='123 Main St', city='Anytown', state='CA', zip='12345'), Address(street='456 Elm St', city='Othertown', state='NY', zip='67890'))\n"
     ]
    }
   ],
   "source": [
    "from pydantic import BaseModel\n",
    "from typing import Tuple\n",
    "\n",
    "class Address(BaseModel):\n",
    "    street: str\n",
    "    city: str\n",
    "    state: str\n",
    "    zip: str\n",
    "\n",
    "class User(BaseModel):\n",
    "    id: int\n",
    "    name: str\n",
    "    email: str\n",
    "    addresses: Tuple[Address, ...]\n",
    "\n",
    "user = User(\n",
    "    id=1,\n",
    "    name=\"John Doe\",\n",
    "    email=\"johndoe@example.com\",\n",
    "    addresses=(\n",
    "        Address(street=\"123 Main St\", city=\"Anytown\", state=\"CA\", zip=\"12345\"),\n",
    "        Address(street=\"456 Elm St\", city=\"Othertown\", state=\"NY\", zip=\"67890\")\n",
    "    )\n",
    ")\n",
    "\n",
    "print(user)"
   ]
  },
  {
   "cell_type": "code",
   "execution_count": 68,
   "metadata": {},
   "outputs": [
    {
     "name": "stdout",
     "output_type": "stream",
     "text": [
      "id=1 name='John Doe' email='johndoe@example.com' addresses={'home': Address(street='123 Main St', city='Anytown', state='CA', zip='12345'), 'work': Address(street='456 Elm St', city='Othertown', state='NY', zip='67890')}\n"
     ]
    }
   ],
   "source": [
    "from pydantic import BaseModel\n",
    "from typing import Dict\n",
    "\n",
    "class Address(BaseModel):\n",
    "    street: str\n",
    "    city: str\n",
    "    state: str\n",
    "    zip: str\n",
    "\n",
    "class User(BaseModel):\n",
    "    id: int\n",
    "    name: str\n",
    "    email: str\n",
    "    addresses: Dict[str, Address]\n",
    "\n",
    "user = User(\n",
    "    id=1,\n",
    "    name=\"John Doe\",\n",
    "    email=\"johndoe@example.com\",\n",
    "    addresses={\n",
    "        \"home\": Address(street=\"123 Main St\", city=\"Anytown\", state=\"CA\", zip=\"12345\"),\n",
    "        \"work\": Address(street=\"456 Elm St\", city=\"Othertown\", state=\"NY\", zip=\"67890\")\n",
    "    }\n",
    ")\n",
    "\n",
    "print(user)"
   ]
  }
 ],
 "metadata": {
  "kernelspec": {
   "display_name": ".venv",
   "language": "python",
   "name": "python3"
  },
  "language_info": {
   "codemirror_mode": {
    "name": "ipython",
    "version": 3
   },
   "file_extension": ".py",
   "mimetype": "text/x-python",
   "name": "python",
   "nbconvert_exporter": "python",
   "pygments_lexer": "ipython3",
   "version": "3.12.4"
  }
 },
 "nbformat": 4,
 "nbformat_minor": 2
}
